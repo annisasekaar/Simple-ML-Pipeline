{
 "cells": [
  {
   "cell_type": "code",
   "execution_count": 44,
   "metadata": {},
   "outputs": [],
   "source": [
    "import pandas as pd\n",
    "import numpy as np\n",
    "import seaborn as sns #visualisation\n",
    "import matplotlib.pyplot as plt #visualisation\n",
    "%matplotlib inline \n",
    "sns.set(color_codes=True)"
   ]
  },
  {
   "cell_type": "markdown",
   "metadata": {},
   "source": [
    "## Import Data"
   ]
  },
  {
   "cell_type": "code",
   "execution_count": 59,
   "metadata": {},
   "outputs": [
    {
     "data": {
      "text/html": [
       "<div>\n",
       "<style scoped>\n",
       "    .dataframe tbody tr th:only-of-type {\n",
       "        vertical-align: middle;\n",
       "    }\n",
       "\n",
       "    .dataframe tbody tr th {\n",
       "        vertical-align: top;\n",
       "    }\n",
       "\n",
       "    .dataframe thead th {\n",
       "        text-align: right;\n",
       "    }\n",
       "</style>\n",
       "<table border=\"1\" class=\"dataframe\">\n",
       "  <thead>\n",
       "    <tr style=\"text-align: right;\">\n",
       "      <th></th>\n",
       "      <th>productID</th>\n",
       "      <th>reviewerID</th>\n",
       "      <th>rating</th>\n",
       "      <th>unixReviewTime</th>\n",
       "    </tr>\n",
       "  </thead>\n",
       "  <tbody>\n",
       "    <tr>\n",
       "      <th>0</th>\n",
       "      <td>0143026860</td>\n",
       "      <td>A1V6B6TNIC10QE</td>\n",
       "      <td>1.0</td>\n",
       "      <td>1424304000</td>\n",
       "    </tr>\n",
       "    <tr>\n",
       "      <th>1</th>\n",
       "      <td>0143026860</td>\n",
       "      <td>A2F5GHSXFQ0W6J</td>\n",
       "      <td>4.0</td>\n",
       "      <td>1418860800</td>\n",
       "    </tr>\n",
       "    <tr>\n",
       "      <th>2</th>\n",
       "      <td>0143026860</td>\n",
       "      <td>A1572GUYS7DGSR</td>\n",
       "      <td>4.0</td>\n",
       "      <td>1407628800</td>\n",
       "    </tr>\n",
       "    <tr>\n",
       "      <th>3</th>\n",
       "      <td>0143026860</td>\n",
       "      <td>A1PSGLFK1NSVO</td>\n",
       "      <td>5.0</td>\n",
       "      <td>1362960000</td>\n",
       "    </tr>\n",
       "    <tr>\n",
       "      <th>4</th>\n",
       "      <td>0143026860</td>\n",
       "      <td>A6IKXKZMTKGSC</td>\n",
       "      <td>5.0</td>\n",
       "      <td>1324771200</td>\n",
       "    </tr>\n",
       "  </tbody>\n",
       "</table>\n",
       "</div>"
      ],
      "text/plain": [
       "    productID      reviewerID  rating  unixReviewTime\n",
       "0  0143026860  A1V6B6TNIC10QE     1.0      1424304000\n",
       "1  0143026860  A2F5GHSXFQ0W6J     4.0      1418860800\n",
       "2  0143026860  A1572GUYS7DGSR     4.0      1407628800\n",
       "3  0143026860   A1PSGLFK1NSVO     5.0      1362960000\n",
       "4  0143026860   A6IKXKZMTKGSC     5.0      1324771200"
      ]
     },
     "execution_count": 59,
     "metadata": {},
     "output_type": "execute_result"
    }
   ],
   "source": [
    "df_ratings = pd.read_csv(\"All_Beauty.csv\", names=['productID', 'reviewerID', 'rating', 'unixReviewTime'])\n",
    "df_ratings.head()"
   ]
  },
  {
   "cell_type": "code",
   "execution_count": 60,
   "metadata": {},
   "outputs": [],
   "source": [
    "df_2 =pd.read_csv(\"AMAZON_FASHION.csv\", names=['productID', 'reviewerID', 'rating', 'unixReviewTime'])\n",
    "df_ratings = pd.concat([df_ratings, df_2])"
   ]
  },
  {
   "cell_type": "code",
   "execution_count": 61,
   "metadata": {},
   "outputs": [],
   "source": [
    "df_3 =pd.read_csv(\"Luxury_Beauty.csv\", names=['productID', 'reviewerID', 'rating', 'unixReviewTime'])\n",
    "df_ratings = pd.concat([df_ratings, df_3])"
   ]
  },
  {
   "cell_type": "code",
   "execution_count": 62,
   "metadata": {},
   "outputs": [
    {
     "data": {
      "text/html": [
       "<div>\n",
       "<style scoped>\n",
       "    .dataframe tbody tr th:only-of-type {\n",
       "        vertical-align: middle;\n",
       "    }\n",
       "\n",
       "    .dataframe tbody tr th {\n",
       "        vertical-align: top;\n",
       "    }\n",
       "\n",
       "    .dataframe thead th {\n",
       "        text-align: right;\n",
       "    }\n",
       "</style>\n",
       "<table border=\"1\" class=\"dataframe\">\n",
       "  <thead>\n",
       "    <tr style=\"text-align: right;\">\n",
       "      <th></th>\n",
       "      <th>productID</th>\n",
       "      <th>reviewerID</th>\n",
       "      <th>rating</th>\n",
       "      <th>unixReviewTime</th>\n",
       "    </tr>\n",
       "  </thead>\n",
       "  <tbody>\n",
       "    <tr>\n",
       "      <th>0</th>\n",
       "      <td>0143026860</td>\n",
       "      <td>A1V6B6TNIC10QE</td>\n",
       "      <td>1.0</td>\n",
       "      <td>1424304000</td>\n",
       "    </tr>\n",
       "    <tr>\n",
       "      <th>1</th>\n",
       "      <td>0143026860</td>\n",
       "      <td>A2F5GHSXFQ0W6J</td>\n",
       "      <td>4.0</td>\n",
       "      <td>1418860800</td>\n",
       "    </tr>\n",
       "    <tr>\n",
       "      <th>2</th>\n",
       "      <td>0143026860</td>\n",
       "      <td>A1572GUYS7DGSR</td>\n",
       "      <td>4.0</td>\n",
       "      <td>1407628800</td>\n",
       "    </tr>\n",
       "    <tr>\n",
       "      <th>3</th>\n",
       "      <td>0143026860</td>\n",
       "      <td>A1PSGLFK1NSVO</td>\n",
       "      <td>5.0</td>\n",
       "      <td>1362960000</td>\n",
       "    </tr>\n",
       "    <tr>\n",
       "      <th>4</th>\n",
       "      <td>0143026860</td>\n",
       "      <td>A6IKXKZMTKGSC</td>\n",
       "      <td>5.0</td>\n",
       "      <td>1324771200</td>\n",
       "    </tr>\n",
       "  </tbody>\n",
       "</table>\n",
       "</div>"
      ],
      "text/plain": [
       "    productID      reviewerID  rating  unixReviewTime\n",
       "0  0143026860  A1V6B6TNIC10QE     1.0      1424304000\n",
       "1  0143026860  A2F5GHSXFQ0W6J     4.0      1418860800\n",
       "2  0143026860  A1572GUYS7DGSR     4.0      1407628800\n",
       "3  0143026860   A1PSGLFK1NSVO     5.0      1362960000\n",
       "4  0143026860   A6IKXKZMTKGSC     5.0      1324771200"
      ]
     },
     "execution_count": 62,
     "metadata": {},
     "output_type": "execute_result"
    }
   ],
   "source": [
    "df_ratings.head()"
   ]
  },
  {
   "cell_type": "markdown",
   "metadata": {},
   "source": [
    "## Exploratory Data Analysis"
   ]
  },
  {
   "cell_type": "code",
   "execution_count": 63,
   "metadata": {},
   "outputs": [],
   "source": [
    "# drop irrelevant columns\n",
    "# We only need ratings, so we drop other columns\n",
    "df_ratings.drop(columns=['unixReviewTime'], inplace=True)"
   ]
  },
  {
   "cell_type": "code",
   "execution_count": 64,
   "metadata": {},
   "outputs": [
    {
     "data": {
      "text/plain": [
       "productID      object\n",
       "reviewerID     object\n",
       "rating        float64\n",
       "dtype: object"
      ]
     },
     "execution_count": 64,
     "metadata": {},
     "output_type": "execute_result"
    }
   ],
   "source": [
    "# checking data types\n",
    "df_ratings.dtypes"
   ]
  },
  {
   "cell_type": "code",
   "execution_count": 65,
   "metadata": {},
   "outputs": [
    {
     "data": {
      "text/plain": [
       "(1829609, 3)"
      ]
     },
     "execution_count": 65,
     "metadata": {},
     "output_type": "execute_result"
    }
   ],
   "source": [
    "# total number of rows and columns\n",
    "df_ratings.shape"
   ]
  },
  {
   "cell_type": "code",
   "execution_count": 66,
   "metadata": {},
   "outputs": [
    {
     "data": {
      "text/plain": [
       "(56187, 3)"
      ]
     },
     "execution_count": 66,
     "metadata": {},
     "output_type": "execute_result"
    }
   ],
   "source": [
    "# total rows of duplicate data\n",
    "df_ratings[df_ratings.duplicated()].shape"
   ]
  },
  {
   "cell_type": "code",
   "execution_count": 67,
   "metadata": {},
   "outputs": [],
   "source": [
    "# drop duplicate data\n",
    "df_ratings = df_ratings.drop_duplicates()"
   ]
  },
  {
   "cell_type": "code",
   "execution_count": 68,
   "metadata": {},
   "outputs": [
    {
     "data": {
      "text/plain": [
       "productID     1773422\n",
       "reviewerID    1773422\n",
       "rating        1773422\n",
       "dtype: int64"
      ]
     },
     "execution_count": 68,
     "metadata": {},
     "output_type": "execute_result"
    }
   ],
   "source": [
    "df_ratings.count()"
   ]
  },
  {
   "cell_type": "code",
   "execution_count": 69,
   "metadata": {},
   "outputs": [
    {
     "name": "stdout",
     "output_type": "stream",
     "text": [
      "productID     0\n",
      "reviewerID    0\n",
      "rating        0\n",
      "dtype: int64\n"
     ]
    }
   ],
   "source": [
    "# Finding the null values.\n",
    "print(df_ratings.isnull().sum())"
   ]
  },
  {
   "cell_type": "code",
   "execution_count": 70,
   "metadata": {},
   "outputs": [
    {
     "name": "stdout",
     "output_type": "stream",
     "text": [
      "Unique value :  [1. 4. 5. 2. 3.]\n"
     ]
    }
   ],
   "source": [
    "# check if there is error data\n",
    "print(\"Unique value : \", df_ratings['rating'].unique())"
   ]
  },
  {
   "cell_type": "code",
   "execution_count": 71,
   "metadata": {},
   "outputs": [
    {
     "data": {
      "text/plain": [
       "1399004"
      ]
     },
     "execution_count": 71,
     "metadata": {},
     "output_type": "execute_result"
    }
   ],
   "source": [
    "# count unique of reviewer\n",
    "df_ratings['reviewerID'].nunique()"
   ]
  },
  {
   "cell_type": "code",
   "execution_count": 72,
   "metadata": {},
   "outputs": [
    {
     "data": {
      "text/plain": [
       "230895"
      ]
     },
     "execution_count": 72,
     "metadata": {},
     "output_type": "execute_result"
    }
   ],
   "source": [
    "# count unique of product\n",
    "df_ratings['productID'].nunique()"
   ]
  },
  {
   "cell_type": "code",
   "execution_count": 80,
   "metadata": {},
   "outputs": [
    {
     "data": {
      "text/plain": [
       "A2GJX2KCUSR0EI    147\n",
       "AENH50GW3OKDA     115\n",
       "A2V5R832QCSOMX    106\n",
       "AHN86VFJIJ2JP      99\n",
       "AQY5XBYSENNZQ      94\n",
       "                 ... \n",
       "A3CVVSNLPRNM3N      1\n",
       "A2W5IG9AS5Q6L0      1\n",
       "A17O5L9ADHROAT      1\n",
       "A1ZDLWCOPV6RUT      1\n",
       "A2KIGUQ54W9AQ6      1\n",
       "Name: reviewerID, Length: 1399004, dtype: int64"
      ]
     },
     "execution_count": 80,
     "metadata": {},
     "output_type": "execute_result"
    }
   ],
   "source": [
    "# count how many ratings has done by reviewer\n",
    "df_ratings['reviewerID'].value_counts()"
   ]
  },
  {
   "cell_type": "code",
   "execution_count": 116,
   "metadata": {},
   "outputs": [],
   "source": [
    "# filter reviewer which has reviewed below 10 times\n",
    "df_filter = df_ratings.groupby('reviewerID').filter(lambda x : len(x)>10)"
   ]
  },
  {
   "cell_type": "code",
   "execution_count": 117,
   "metadata": {},
   "outputs": [
    {
     "data": {
      "text/plain": [
       "1323"
      ]
     },
     "execution_count": 117,
     "metadata": {},
     "output_type": "execute_result"
    }
   ],
   "source": [
    "# number of reviewerID after filtering\n",
    "df_filter['reviewerID'].nunique()"
   ]
  },
  {
   "cell_type": "code",
   "execution_count": 118,
   "metadata": {},
   "outputs": [
    {
     "data": {
      "text/plain": [
       "8155"
      ]
     },
     "execution_count": 118,
     "metadata": {},
     "output_type": "execute_result"
    }
   ],
   "source": [
    "# number of productID after filtering\n",
    "df_filter['productID'].nunique()"
   ]
  },
  {
   "cell_type": "markdown",
   "metadata": {},
   "source": [
    "## Data Preparations"
   ]
  },
  {
   "cell_type": "code",
   "execution_count": 119,
   "metadata": {},
   "outputs": [],
   "source": [
    "# rename columns\n",
    "df_filter = df_filter.rename(columns={\"reviewerID\": \"user_id\", \"productID\": \"product_id\", \"rating\": \"weight\"})"
   ]
  },
  {
   "cell_type": "code",
   "execution_count": 120,
   "metadata": {},
   "outputs": [
    {
     "data": {
      "text/plain": [
       "product_id    category\n",
       "user_id       category\n",
       "weight         float64\n",
       "dtype: object"
      ]
     },
     "execution_count": 120,
     "metadata": {},
     "output_type": "execute_result"
    }
   ],
   "source": [
    "# convert categorical columns to numerical columns\n",
    "df_filter[\"user_id\"] = df_filter[\"user_id\"].astype('category')\n",
    "df_filter[\"product_id\"] = df_filter[\"product_id\"].astype('category')\n",
    "df_filter.dtypes"
   ]
  },
  {
   "cell_type": "code",
   "execution_count": 121,
   "metadata": {},
   "outputs": [
    {
     "data": {
      "text/html": [
       "<div>\n",
       "<style scoped>\n",
       "    .dataframe tbody tr th:only-of-type {\n",
       "        vertical-align: middle;\n",
       "    }\n",
       "\n",
       "    .dataframe tbody tr th {\n",
       "        vertical-align: top;\n",
       "    }\n",
       "\n",
       "    .dataframe thead th {\n",
       "        text-align: right;\n",
       "    }\n",
       "</style>\n",
       "<table border=\"1\" class=\"dataframe\">\n",
       "  <thead>\n",
       "    <tr style=\"text-align: right;\">\n",
       "      <th></th>\n",
       "      <th>product_id</th>\n",
       "      <th>user_id</th>\n",
       "      <th>weight</th>\n",
       "      <th>user_id_cat</th>\n",
       "      <th>product_id_cat</th>\n",
       "    </tr>\n",
       "  </thead>\n",
       "  <tbody>\n",
       "    <tr>\n",
       "      <th>720</th>\n",
       "      <td>1620213982</td>\n",
       "      <td>AIBZYH7KI1AF6</td>\n",
       "      <td>5.0</td>\n",
       "      <td>1164</td>\n",
       "      <td>1</td>\n",
       "    </tr>\n",
       "    <tr>\n",
       "      <th>1562</th>\n",
       "      <td>1620213982</td>\n",
       "      <td>A15WSZ11YEOKMU</td>\n",
       "      <td>3.0</td>\n",
       "      <td>43</td>\n",
       "      <td>1</td>\n",
       "    </tr>\n",
       "    <tr>\n",
       "      <th>1766</th>\n",
       "      <td>1620213982</td>\n",
       "      <td>A3K6852AILJ825</td>\n",
       "      <td>5.0</td>\n",
       "      <td>895</td>\n",
       "      <td>1</td>\n",
       "    </tr>\n",
       "    <tr>\n",
       "      <th>4455</th>\n",
       "      <td>1620213982</td>\n",
       "      <td>A3LX2VT91TE1M1</td>\n",
       "      <td>5.0</td>\n",
       "      <td>914</td>\n",
       "      <td>1</td>\n",
       "    </tr>\n",
       "    <tr>\n",
       "      <th>4518</th>\n",
       "      <td>1620213982</td>\n",
       "      <td>A2NJVP1JZ5G8VD</td>\n",
       "      <td>5.0</td>\n",
       "      <td>577</td>\n",
       "      <td>1</td>\n",
       "    </tr>\n",
       "  </tbody>\n",
       "</table>\n",
       "</div>"
      ],
      "text/plain": [
       "      product_id         user_id  weight  user_id_cat  product_id_cat\n",
       "720   1620213982   AIBZYH7KI1AF6     5.0         1164               1\n",
       "1562  1620213982  A15WSZ11YEOKMU     3.0           43               1\n",
       "1766  1620213982  A3K6852AILJ825     5.0          895               1\n",
       "4455  1620213982  A3LX2VT91TE1M1     5.0          914               1\n",
       "4518  1620213982  A2NJVP1JZ5G8VD     5.0          577               1"
      ]
     },
     "execution_count": 121,
     "metadata": {},
     "output_type": "execute_result"
    }
   ],
   "source": [
    "df_filter[\"user_id_cat\"] = df_filter[\"user_id\"].cat.codes\n",
    "df_filter[\"product_id_cat\"] = df_filter[\"product_id\"].cat.codes\n",
    "df_filter.head()"
   ]
  },
  {
   "cell_type": "code",
   "execution_count": 92,
   "metadata": {},
   "outputs": [
    {
     "data": {
      "text/plain": [
       "'2.2.0'"
      ]
     },
     "execution_count": 92,
     "metadata": {},
     "output_type": "execute_result"
    }
   ],
   "source": [
    "import os\n",
    "os.environ[\"CUDA_VISIBLE_DEVICES\"] = \"-1\"\n",
    "\n",
    "import tensorflow as tf\n",
    "tf.version.VERSION"
   ]
  },
  {
   "cell_type": "code",
   "execution_count": 93,
   "metadata": {},
   "outputs": [],
   "source": [
    "from tensorflow import keras\n",
    "from tensorflow.keras import layers"
   ]
  },
  {
   "cell_type": "code",
   "execution_count": 94,
   "metadata": {},
   "outputs": [],
   "source": [
    "from sklearn.model_selection import train_test_split\n",
    "from sklearn import preprocessing\n",
    "import time"
   ]
  },
  {
   "cell_type": "code",
   "execution_count": 122,
   "metadata": {},
   "outputs": [],
   "source": [
    "# split data train, validation, test\n",
    "def split_data(df) :\n",
    "    X_train, X_val, y_train, y_val = train_test_split(df[['user_id_cat', 'product_id_cat']], df['weight'], test_size=0.1)\n",
    "    return X_train, y_train, X_val, y_val\n",
    "\n",
    "# define num_users and num_items\n",
    "def define_num_users_items(df) :\n",
    "    num_users = df_df['user_id_cat'].nunique() + 1\n",
    "    num_items = df_df['product_id_cat'].nunique() + 1\n",
    "    return num_users, num_items\n",
    "\n",
    "# define inputs\n",
    "def define_inputs(X, y):\n",
    "    user_input = np.array(X['user_id_cat']).reshape(np.array(X['user_id_cat']).shape[0],1)\n",
    "    item_input = np.array(X['product_id_cat']).reshape(np.array(X['product_id_cat']).shape[0],1)\n",
    "    target = np.array(y).reshape(np.array(y).shape[0],1)\n",
    "    return user_input, item_input, target"
   ]
  },
  {
   "cell_type": "code",
   "execution_count": 123,
   "metadata": {},
   "outputs": [],
   "source": [
    "# normalize weight\n",
    "df_filter['weight'] = df_filter['weight']*0.1\n",
    "\n",
    "# split data train, validation, test\n",
    "X_train, y_train, X_val, y_val = split_data(df_filter)\n",
    "\n",
    "# define num_users num_items\n",
    "num_users, num_items = define_num_users_items(X_train)\n",
    "val_num_users, val_num_items = define_num_users_items(X_val)\n",
    "\n",
    "# define inputs for training\n",
    "user_input, item_input, target = define_inputs(X_train, y_train)\n",
    "val_user_input, val_item_input, val_target = define_inputs(X_val, y_val)"
   ]
  },
  {
   "cell_type": "code",
   "execution_count": 124,
   "metadata": {},
   "outputs": [
    {
     "name": "stdout",
     "output_type": "stream",
     "text": [
      "num_user :  1324 num_item :  8156\n"
     ]
    }
   ],
   "source": [
    "print('num_user : ', num_users, 'num_item : ', num_items)"
   ]
  },
  {
   "cell_type": "code",
   "execution_count": 125,
   "metadata": {},
   "outputs": [
    {
     "name": "stdout",
     "output_type": "stream",
     "text": [
      "user-item input :  21031 \n",
      "validation user-item input :  2337\n"
     ]
    }
   ],
   "source": [
    "print('user-item input : ', user_input.shape[0], '\\nvalidation user-item input : ', val_user_input.shape[0])"
   ]
  },
  {
   "cell_type": "markdown",
   "metadata": {},
   "source": [
    "## Create Model"
   ]
  },
  {
   "cell_type": "code",
   "execution_count": 104,
   "metadata": {},
   "outputs": [],
   "source": [
    "from statistics import mean\n",
    "import math\n",
    "import random\n",
    "from tqdm import tqdm"
   ]
  },
  {
   "cell_type": "code",
   "execution_count": 126,
   "metadata": {},
   "outputs": [],
   "source": [
    "#create n_recommendation product\n",
    "def create_nodes(user_id, product) :\n",
    "    user = np.full((len(product), 1), user_id)\n",
    "    item = product.reshape(product.shape[0],1)\n",
    "    return user, item\n",
    "\n",
    "# generate predicted recommendation\n",
    "def top_n_recommendation(user_id, df, model, N) :\n",
    "    product = df['product_id_cat'].unique()\n",
    "    user_test, item_candidate = create_nodes(user_id, product)\n",
    "    link_pred = model.predict({\"user\": user_test, \"item\": item_candidate})\n",
    "    merge = np.stack((item_candidate.flatten(), link_pred.flatten()), axis=1)\n",
    "    merge = merge[np.argsort(merge[:, 1])]\n",
    "    return merge[-N:, 0].astype(int)"
   ]
  },
  {
   "cell_type": "code",
   "execution_count": 127,
   "metadata": {},
   "outputs": [],
   "source": [
    "# create model\n",
    "def create_model(num_hidden, num_users=num_users, num_items=num_items, lr=0.001) :\n",
    "    input_user = keras.Input(shape=(1,), name=\"user\")  \n",
    "    input_item = keras.Input(shape=(1,), name=\"item\")  \n",
    "\n",
    "    user_embedding = layers.Embedding(num_users, 64)(input_user)\n",
    "    item_embedding = layers.Embedding(num_items, 64)(input_item)\n",
    "\n",
    "    user_latent = layers.Flatten()(user_embedding)\n",
    "    item_latent = layers.Flatten()(item_embedding)\n",
    "\n",
    "    x = layers.Concatenate()([user_latent, item_latent])\n",
    "\n",
    "    for i in range(num_hidden) :\n",
    "        x = layers.Dense(64, activation='relu')(x)\n",
    "        \n",
    "    prediction = layers.Dense(1, activation='sigmoid', name=\"prediction\")(x)\n",
    "\n",
    "    model = keras.Model(inputs=[input_user, input_item], outputs=prediction)\n",
    "    \n",
    "    optimizer = tf.keras.optimizers.Adam(learning_rate=lr)\n",
    "\n",
    "    model.compile(optimizer=optimizer, metrics=[tf.keras.metrics.RootMeanSquaredError()], loss={\"prediction\": 'mse'})\n",
    "    \n",
    "    return model"
   ]
  },
  {
   "cell_type": "code",
   "execution_count": 128,
   "metadata": {},
   "outputs": [],
   "source": [
    "def model_fit(model, user_input=user_input, item_input=item_input, target=target, epochs=1, batch_size=10, val_user_input=val_user_input, val_item_input=val_item_input, val_target=val_target) :\n",
    "    ## Calculate training time\n",
    "    start = time.time()\n",
    "    history = model.fit({\"user\": user_input, \n",
    "                         \"item\": item_input},\n",
    "                        {\"prediction\": target},\n",
    "                        validation_data=({\"user\": val_user_input, \n",
    "                                         \"item\": val_item_input},\n",
    "                                        {\"prediction\": val_target}),\n",
    "                        batch_size=batch_size, \n",
    "                        epochs=epochs, \n",
    "                        verbose=1,\n",
    "                       )\n",
    "\n",
    "    end = time.time()\n",
    "    print(\"Time elapsed training: {} second\".format(end - start))\n",
    "    return history"
   ]
  },
  {
   "cell_type": "code",
   "execution_count": 129,
   "metadata": {},
   "outputs": [
    {
     "name": "stdout",
     "output_type": "stream",
     "text": [
      "Model: \"model_1\"\n",
      "__________________________________________________________________________________________________\n",
      "Layer (type)                    Output Shape         Param #     Connected to                     \n",
      "==================================================================================================\n",
      "user (InputLayer)               [(None, 1)]          0                                            \n",
      "__________________________________________________________________________________________________\n",
      "item (InputLayer)               [(None, 1)]          0                                            \n",
      "__________________________________________________________________________________________________\n",
      "embedding_2 (Embedding)         (None, 1, 64)        84736       user[0][0]                       \n",
      "__________________________________________________________________________________________________\n",
      "embedding_3 (Embedding)         (None, 1, 64)        521984      item[0][0]                       \n",
      "__________________________________________________________________________________________________\n",
      "flatten_2 (Flatten)             (None, 64)           0           embedding_2[0][0]                \n",
      "__________________________________________________________________________________________________\n",
      "flatten_3 (Flatten)             (None, 64)           0           embedding_3[0][0]                \n",
      "__________________________________________________________________________________________________\n",
      "concatenate_1 (Concatenate)     (None, 128)          0           flatten_2[0][0]                  \n",
      "                                                                 flatten_3[0][0]                  \n",
      "__________________________________________________________________________________________________\n",
      "dense_4 (Dense)                 (None, 64)           8256        concatenate_1[0][0]              \n",
      "__________________________________________________________________________________________________\n",
      "dense_5 (Dense)                 (None, 64)           4160        dense_4[0][0]                    \n",
      "__________________________________________________________________________________________________\n",
      "dense_6 (Dense)                 (None, 64)           4160        dense_5[0][0]                    \n",
      "__________________________________________________________________________________________________\n",
      "dense_7 (Dense)                 (None, 64)           4160        dense_6[0][0]                    \n",
      "__________________________________________________________________________________________________\n",
      "prediction (Dense)              (None, 1)            65          dense_7[0][0]                    \n",
      "==================================================================================================\n",
      "Total params: 627,521\n",
      "Trainable params: 627,521\n",
      "Non-trainable params: 0\n",
      "__________________________________________________________________________________________________\n"
     ]
    }
   ],
   "source": [
    "# create model\n",
    "model = create_model(4, lr=0.0005)\n",
    "model.summary()"
   ]
  },
  {
   "cell_type": "code",
   "execution_count": 130,
   "metadata": {},
   "outputs": [
    {
     "name": "stdout",
     "output_type": "stream",
     "text": [
      "2104/2104 [==============================] - 26s 12ms/step - loss: 0.0102 - root_mean_squared_error: 0.1009 - val_loss: 0.0095 - val_root_mean_squared_error: 0.0973\n",
      "Time elapsed training: 29.711272716522217 second\n"
     ]
    }
   ],
   "source": [
    "history = model_fit(model)"
   ]
  },
  {
   "cell_type": "markdown",
   "metadata": {},
   "source": [
    "## Storing Recommendation"
   ]
  },
  {
   "cell_type": "code",
   "execution_count": 133,
   "metadata": {},
   "outputs": [
    {
     "data": {
      "text/html": [
       "<div>\n",
       "<style scoped>\n",
       "    .dataframe tbody tr th:only-of-type {\n",
       "        vertical-align: middle;\n",
       "    }\n",
       "\n",
       "    .dataframe tbody tr th {\n",
       "        vertical-align: top;\n",
       "    }\n",
       "\n",
       "    .dataframe thead th {\n",
       "        text-align: right;\n",
       "    }\n",
       "</style>\n",
       "<table border=\"1\" class=\"dataframe\">\n",
       "  <thead>\n",
       "    <tr style=\"text-align: right;\">\n",
       "      <th></th>\n",
       "      <th>product_id</th>\n",
       "      <th>user_id</th>\n",
       "      <th>weight</th>\n",
       "      <th>user_id_cat</th>\n",
       "      <th>product_id_cat</th>\n",
       "    </tr>\n",
       "  </thead>\n",
       "  <tbody>\n",
       "    <tr>\n",
       "      <th>720</th>\n",
       "      <td>1620213982</td>\n",
       "      <td>AIBZYH7KI1AF6</td>\n",
       "      <td>0.5</td>\n",
       "      <td>1164</td>\n",
       "      <td>1</td>\n",
       "    </tr>\n",
       "    <tr>\n",
       "      <th>1562</th>\n",
       "      <td>1620213982</td>\n",
       "      <td>A15WSZ11YEOKMU</td>\n",
       "      <td>0.3</td>\n",
       "      <td>43</td>\n",
       "      <td>1</td>\n",
       "    </tr>\n",
       "    <tr>\n",
       "      <th>1766</th>\n",
       "      <td>1620213982</td>\n",
       "      <td>A3K6852AILJ825</td>\n",
       "      <td>0.5</td>\n",
       "      <td>895</td>\n",
       "      <td>1</td>\n",
       "    </tr>\n",
       "    <tr>\n",
       "      <th>4455</th>\n",
       "      <td>1620213982</td>\n",
       "      <td>A3LX2VT91TE1M1</td>\n",
       "      <td>0.5</td>\n",
       "      <td>914</td>\n",
       "      <td>1</td>\n",
       "    </tr>\n",
       "    <tr>\n",
       "      <th>4518</th>\n",
       "      <td>1620213982</td>\n",
       "      <td>A2NJVP1JZ5G8VD</td>\n",
       "      <td>0.5</td>\n",
       "      <td>577</td>\n",
       "      <td>1</td>\n",
       "    </tr>\n",
       "  </tbody>\n",
       "</table>\n",
       "</div>"
      ],
      "text/plain": [
       "      product_id         user_id  weight  user_id_cat  product_id_cat\n",
       "720   1620213982   AIBZYH7KI1AF6     0.5         1164               1\n",
       "1562  1620213982  A15WSZ11YEOKMU     0.3           43               1\n",
       "1766  1620213982  A3K6852AILJ825     0.5          895               1\n",
       "4455  1620213982  A3LX2VT91TE1M1     0.5          914               1\n",
       "4518  1620213982  A2NJVP1JZ5G8VD     0.5          577               1"
      ]
     },
     "execution_count": 133,
     "metadata": {},
     "output_type": "execute_result"
    }
   ],
   "source": [
    "df_filter.head()"
   ]
  },
  {
   "cell_type": "code",
   "execution_count": 140,
   "metadata": {},
   "outputs": [],
   "source": [
    "# create dictionary from user and product\n",
    "user_dict = df_filter[['user_id', 'user_id_cat']].drop_duplicates()\n",
    "product_dict = df_filter[['product_id', 'product_id_cat']].drop_duplicates()"
   ]
  },
  {
   "cell_type": "code",
   "execution_count": 170,
   "metadata": {},
   "outputs": [
    {
     "name": "stderr",
     "output_type": "stream",
     "text": [
      "100%|██████████████████████████████████████████████████████████████████████████████| 1323/1323 [17:57<00:00,  1.23it/s]\n"
     ]
    }
   ],
   "source": [
    "# create function to generate all user recommendation\n",
    "recommendation_list = []\n",
    "\n",
    "for user in tqdm(user_dict['user_id'].values) :\n",
    "    user_trans = user_dict[user_dict['user_id'] == user]['user_id_cat']\n",
    "    items = top_n_recommendation(user_trans, df_filter, model, 100)\n",
    "    product_trans = product_dict[product_dict['product_id_cat'].isin(items)]['product_id']\n",
    "    product_trans = product_trans.values.tolist()\n",
    "    recommendation_list.append(','.join(product_trans))"
   ]
  },
  {
   "cell_type": "code",
   "execution_count": null,
   "metadata": {},
   "outputs": [],
   "source": [
    "# for i in range(len(recommendation_list)) :\n",
    "#     recommendation_list[i] = ','.join(recommendation_list[i].tolist())"
   ]
  },
  {
   "cell_type": "code",
   "execution_count": 223,
   "metadata": {},
   "outputs": [],
   "source": [
    "# transform to dataframe\n",
    "d = {'reviewerID': user_dict['user_id'].values, 'recommendation_product': recommendation_list}\n",
    "df_rec = pd.DataFrame(data=d)"
   ]
  },
  {
   "cell_type": "code",
   "execution_count": 224,
   "metadata": {},
   "outputs": [],
   "source": [
    "# export to sql\n",
    "from sqlalchemy import create_engine\n",
    "engine = create_engine('sqlite://', echo=False)"
   ]
  },
  {
   "cell_type": "code",
   "execution_count": 225,
   "metadata": {},
   "outputs": [],
   "source": [
    "df_rec.to_sql('recommendation', con=engine, if_exists='replace')"
   ]
  },
  {
   "cell_type": "code",
   "execution_count": 228,
   "metadata": {},
   "outputs": [],
   "source": [
    "df_rec.to_csv(r'recommendation.csv', index=False)"
   ]
  }
 ],
 "metadata": {
  "kernelspec": {
   "display_name": "Python 3",
   "language": "python",
   "name": "python3"
  },
  "language_info": {
   "codemirror_mode": {
    "name": "ipython",
    "version": 3
   },
   "file_extension": ".py",
   "mimetype": "text/x-python",
   "name": "python",
   "nbconvert_exporter": "python",
   "pygments_lexer": "ipython3",
   "version": "3.7.4"
  }
 },
 "nbformat": 4,
 "nbformat_minor": 2
}
